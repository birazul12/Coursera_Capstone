{
    "cells": [
        {
            "cell_type": "markdown",
            "metadata": {
                "collapsed": true
            },
            "source": "## Capstone Project Notebook\n"
        },
        {
            "cell_type": "code",
            "execution_count": 1,
            "metadata": {},
            "outputs": [],
            "source": "#Q 1. Write some markdown to explain that this notebook will be mainly used for the capstone project"
        },
        {
            "cell_type": "markdown",
            "metadata": {},
            "source": "### List of Projects in Applied Data Science Capstone\nThere are three weeks in this course. \n* Week one (just showing the connection b/w Notebook and GitHub from Watson Studio \n* Week two (Capstone project- Car accident severity \n* Week three (The full and elabroate project of week two \n\n**Here is the some links that will give an idea the project of week three**\n1. [Report](https://cocl.us/coursera_capstone_report)\n2. [Notebook](https://cocl.us/coursera_capstone_notebook)\n3. [Presentation](https://cocl.us/coursera_capstone_presentation)\n4. [Bogpost]( https://cocl.us/coursera_capstone_blogpost)"
        },
        {
            "cell_type": "code",
            "execution_count": 11,
            "metadata": {},
            "outputs": [],
            "source": "# The code was removed by Watson Studio for sharing."
        },
        {
            "cell_type": "code",
            "execution_count": 2,
            "metadata": {},
            "outputs": [],
            "source": "#Q 2. Import the pandas library as pd\nimport pandas as pd"
        },
        {
            "cell_type": "code",
            "execution_count": 3,
            "metadata": {},
            "outputs": [],
            "source": "#Q 3. Import the NumPy library as np\nimport numpy as np"
        },
        {
            "cell_type": "code",
            "execution_count": 8,
            "metadata": {},
            "outputs": [
                {
                    "name": "stdout",
                    "output_type": "stream",
                    "text": "Hello Capstone Project Coursera!\n"
                }
            ],
            "source": "#Q 4. Print the following the staement: Hello Capstone Project Coursera!\nprint(\"Hello Capstone Project Coursera!\")"
        }
    ],
    "metadata": {
        "kernelspec": {
            "display_name": "Python 3.6",
            "language": "python",
            "name": "python3"
        },
        "language_info": {
            "codemirror_mode": {
                "name": "ipython",
                "version": 3
            },
            "file_extension": ".py",
            "mimetype": "text/x-python",
            "name": "python",
            "nbconvert_exporter": "python",
            "pygments_lexer": "ipython3",
            "version": "3.6.9"
        }
    },
    "nbformat": 4,
    "nbformat_minor": 1
}